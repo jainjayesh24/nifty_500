{
 "cells": [
  {
   "cell_type": "code",
   "execution_count": 63,
   "metadata": {},
   "outputs": [],
   "source": [
    "import pandas as pd\n",
    "import numpy as np\n",
    "import matplotlib.pyplot as plt\n",
    "from sklearn.preprocessing import OneHotEncoder\n",
    "import seaborn as sns\n",
    "%matplotlib inline"
   ]
  },
  {
   "cell_type": "code",
   "execution_count": 64,
   "metadata": {},
   "outputs": [],
   "source": [
    "df = pd.read_csv('nifty_500.csv')"
   ]
  },
  {
   "cell_type": "code",
   "execution_count": 65,
   "metadata": {},
   "outputs": [
    {
     "data": {
      "text/html": [
       "<div>\n",
       "<style scoped>\n",
       "    .dataframe tbody tr th:only-of-type {\n",
       "        vertical-align: middle;\n",
       "    }\n",
       "\n",
       "    .dataframe tbody tr th {\n",
       "        vertical-align: top;\n",
       "    }\n",
       "\n",
       "    .dataframe thead th {\n",
       "        text-align: right;\n",
       "    }\n",
       "</style>\n",
       "<table border=\"1\" class=\"dataframe\">\n",
       "  <thead>\n",
       "    <tr style=\"text-align: right;\">\n",
       "      <th></th>\n",
       "      <th>Company Name</th>\n",
       "      <th>Symbol</th>\n",
       "      <th>Industry</th>\n",
       "      <th>Series</th>\n",
       "      <th>Open</th>\n",
       "      <th>High</th>\n",
       "      <th>Low</th>\n",
       "      <th>Previous Close</th>\n",
       "      <th>Last Traded Price</th>\n",
       "      <th>Change</th>\n",
       "      <th>Percentage Change</th>\n",
       "      <th>Share Volume</th>\n",
       "      <th>Value (Indian Rupee)</th>\n",
       "      <th>52 Week High</th>\n",
       "      <th>52 Week Low</th>\n",
       "      <th>365 Day Percentage Change</th>\n",
       "      <th>30 Day Percentage Change</th>\n",
       "    </tr>\n",
       "  </thead>\n",
       "  <tbody>\n",
       "    <tr>\n",
       "      <th>0</th>\n",
       "      <td>3M India Ltd.</td>\n",
       "      <td>3MINDIA</td>\n",
       "      <td>Diversified</td>\n",
       "      <td>EQ</td>\n",
       "      <td>21950.00</td>\n",
       "      <td>21999.00</td>\n",
       "      <td>21126.05</td>\n",
       "      <td>21854.05</td>\n",
       "      <td>21575.00</td>\n",
       "      <td>-279.05</td>\n",
       "      <td>-1.28</td>\n",
       "      <td>4159</td>\n",
       "      <td>8.965357e+07</td>\n",
       "      <td>27800.00</td>\n",
       "      <td>17273.00</td>\n",
       "      <td>-10.18</td>\n",
       "      <td>8.22</td>\n",
       "    </tr>\n",
       "    <tr>\n",
       "      <th>1</th>\n",
       "      <td>Aarti Drugs Ltd.</td>\n",
       "      <td>AARTIDRUGS</td>\n",
       "      <td>Healthcare</td>\n",
       "      <td>EQ</td>\n",
       "      <td>400.50</td>\n",
       "      <td>401.80</td>\n",
       "      <td>394.10</td>\n",
       "      <td>403.85</td>\n",
       "      <td>400.00</td>\n",
       "      <td>-3.85</td>\n",
       "      <td>-0.95</td>\n",
       "      <td>31782</td>\n",
       "      <td>1.262731e+07</td>\n",
       "      <td>749.75</td>\n",
       "      <td>378.00</td>\n",
       "      <td>-42.92</td>\n",
       "      <td>-5.10</td>\n",
       "    </tr>\n",
       "    <tr>\n",
       "      <th>2</th>\n",
       "      <td>Aavas Financiers Ltd.</td>\n",
       "      <td>AAVAS</td>\n",
       "      <td>Financial Services</td>\n",
       "      <td>EQ</td>\n",
       "      <td>1997.10</td>\n",
       "      <td>2004.05</td>\n",
       "      <td>1894.50</td>\n",
       "      <td>2015.45</td>\n",
       "      <td>1943.15</td>\n",
       "      <td>-72.3</td>\n",
       "      <td>-3.59</td>\n",
       "      <td>150704</td>\n",
       "      <td>2.907728e+08</td>\n",
       "      <td>3340.00</td>\n",
       "      <td>1815.00</td>\n",
       "      <td>-25.69</td>\n",
       "      <td>-9.39</td>\n",
       "    </tr>\n",
       "    <tr>\n",
       "      <th>3</th>\n",
       "      <td>ABB India Ltd.</td>\n",
       "      <td>ABB</td>\n",
       "      <td>Capital Goods</td>\n",
       "      <td>EQ</td>\n",
       "      <td>2260.35</td>\n",
       "      <td>2311.50</td>\n",
       "      <td>2260.35</td>\n",
       "      <td>2300.90</td>\n",
       "      <td>2280.00</td>\n",
       "      <td>-20.9</td>\n",
       "      <td>-0.91</td>\n",
       "      <td>97053</td>\n",
       "      <td>2.210935e+08</td>\n",
       "      <td>2487.85</td>\n",
       "      <td>1618.05</td>\n",
       "      <td>27.25</td>\n",
       "      <td>-5.21</td>\n",
       "    </tr>\n",
       "    <tr>\n",
       "      <th>4</th>\n",
       "      <td>Abbott India Ltd.</td>\n",
       "      <td>ABBOTINDIA</td>\n",
       "      <td>Healthcare</td>\n",
       "      <td>EQ</td>\n",
       "      <td>18700.40</td>\n",
       "      <td>19200.00</td>\n",
       "      <td>18605.00</td>\n",
       "      <td>18760.40</td>\n",
       "      <td>19199.80</td>\n",
       "      <td>439.4</td>\n",
       "      <td>2.34</td>\n",
       "      <td>12396</td>\n",
       "      <td>2.346770e+08</td>\n",
       "      <td>23934.45</td>\n",
       "      <td>15514.00</td>\n",
       "      <td>11.61</td>\n",
       "      <td>5.84</td>\n",
       "    </tr>\n",
       "  </tbody>\n",
       "</table>\n",
       "</div>"
      ],
      "text/plain": [
       "            Company Name      Symbol            Industry Series      Open  \\\n",
       "0          3M India Ltd.     3MINDIA         Diversified     EQ  21950.00   \n",
       "1       Aarti Drugs Ltd.  AARTIDRUGS          Healthcare     EQ    400.50   \n",
       "2  Aavas Financiers Ltd.       AAVAS  Financial Services     EQ   1997.10   \n",
       "3         ABB India Ltd.         ABB       Capital Goods     EQ   2260.35   \n",
       "4      Abbott India Ltd.  ABBOTINDIA          Healthcare     EQ  18700.40   \n",
       "\n",
       "       High       Low  Previous Close  Last Traded Price   Change  \\\n",
       "0  21999.00  21126.05        21854.05           21575.00  -279.05   \n",
       "1    401.80    394.10          403.85             400.00    -3.85   \n",
       "2   2004.05   1894.50         2015.45            1943.15    -72.3   \n",
       "3   2311.50   2260.35         2300.90            2280.00    -20.9   \n",
       "4  19200.00  18605.00        18760.40           19199.80    439.4   \n",
       "\n",
       "  Percentage Change  Share Volume  Value (Indian Rupee)  52 Week High  \\\n",
       "0             -1.28          4159          8.965357e+07      27800.00   \n",
       "1             -0.95         31782          1.262731e+07        749.75   \n",
       "2             -3.59        150704          2.907728e+08       3340.00   \n",
       "3             -0.91         97053          2.210935e+08       2487.85   \n",
       "4              2.34         12396          2.346770e+08      23934.45   \n",
       "\n",
       "   52 Week Low  365 Day Percentage Change  30 Day Percentage Change  \n",
       "0     17273.00                     -10.18                      8.22  \n",
       "1       378.00                     -42.92                     -5.10  \n",
       "2      1815.00                     -25.69                     -9.39  \n",
       "3      1618.05                      27.25                     -5.21  \n",
       "4     15514.00                      11.61                      5.84  "
      ]
     },
     "execution_count": 65,
     "metadata": {},
     "output_type": "execute_result"
    }
   ],
   "source": [
    "df.head()"
   ]
  },
  {
   "cell_type": "code",
   "execution_count": 66,
   "metadata": {},
   "outputs": [],
   "source": [
    "sns.set()  ## Provides grides and themes for plot"
   ]
  },
  {
   "cell_type": "markdown",
   "metadata": {},
   "source": [
    "Data Description"
   ]
  },
  {
   "cell_type": "code",
   "execution_count": 67,
   "metadata": {},
   "outputs": [
    {
     "data": {
      "text/plain": [
       "(501, 17)"
      ]
     },
     "execution_count": 67,
     "metadata": {},
     "output_type": "execute_result"
    }
   ],
   "source": [
    "df.shape"
   ]
  },
  {
   "cell_type": "code",
   "execution_count": 68,
   "metadata": {},
   "outputs": [
    {
     "name": "stdout",
     "output_type": "stream",
     "text": [
      "<class 'pandas.core.frame.DataFrame'>\n",
      "RangeIndex: 501 entries, 0 to 500\n",
      "Data columns (total 17 columns):\n",
      " #   Column                     Non-Null Count  Dtype  \n",
      "---  ------                     --------------  -----  \n",
      " 0   Company Name               501 non-null    object \n",
      " 1   Symbol                     501 non-null    object \n",
      " 2   Industry                   501 non-null    object \n",
      " 3   Series                     501 non-null    object \n",
      " 4   Open                       501 non-null    float64\n",
      " 5   High                       501 non-null    float64\n",
      " 6   Low                        501 non-null    float64\n",
      " 7   Previous Close             501 non-null    float64\n",
      " 8   Last Traded Price          501 non-null    float64\n",
      " 9   Change                     501 non-null    object \n",
      " 10  Percentage Change          501 non-null    object \n",
      " 11  Share Volume               501 non-null    int64  \n",
      " 12  Value (Indian Rupee)       501 non-null    float64\n",
      " 13  52 Week High               501 non-null    float64\n",
      " 14  52 Week Low                501 non-null    float64\n",
      " 15  365 Day Percentage Change  499 non-null    float64\n",
      " 16  30 Day Percentage Change   500 non-null    float64\n",
      "dtypes: float64(10), int64(1), object(6)\n",
      "memory usage: 66.7+ KB\n"
     ]
    }
   ],
   "source": [
    "df.info()"
   ]
  },
  {
   "cell_type": "code",
   "execution_count": 69,
   "metadata": {},
   "outputs": [
    {
     "data": {
      "text/html": [
       "<div>\n",
       "<style scoped>\n",
       "    .dataframe tbody tr th:only-of-type {\n",
       "        vertical-align: middle;\n",
       "    }\n",
       "\n",
       "    .dataframe tbody tr th {\n",
       "        vertical-align: top;\n",
       "    }\n",
       "\n",
       "    .dataframe thead th {\n",
       "        text-align: right;\n",
       "    }\n",
       "</style>\n",
       "<table border=\"1\" class=\"dataframe\">\n",
       "  <thead>\n",
       "    <tr style=\"text-align: right;\">\n",
       "      <th></th>\n",
       "      <th>Open</th>\n",
       "      <th>High</th>\n",
       "      <th>Low</th>\n",
       "      <th>Previous Close</th>\n",
       "      <th>Last Traded Price</th>\n",
       "      <th>Share Volume</th>\n",
       "      <th>Value (Indian Rupee)</th>\n",
       "      <th>52 Week High</th>\n",
       "      <th>52 Week Low</th>\n",
       "      <th>365 Day Percentage Change</th>\n",
       "      <th>30 Day Percentage Change</th>\n",
       "    </tr>\n",
       "  </thead>\n",
       "  <tbody>\n",
       "    <tr>\n",
       "      <th>count</th>\n",
       "      <td>501.000000</td>\n",
       "      <td>501.000000</td>\n",
       "      <td>501.000000</td>\n",
       "      <td>501.000000</td>\n",
       "      <td>501.000000</td>\n",
       "      <td>5.010000e+02</td>\n",
       "      <td>5.010000e+02</td>\n",
       "      <td>501.000000</td>\n",
       "      <td>501.000000</td>\n",
       "      <td>499.000000</td>\n",
       "      <td>500.00000</td>\n",
       "    </tr>\n",
       "    <tr>\n",
       "      <th>mean</th>\n",
       "      <td>1525.904491</td>\n",
       "      <td>1553.804990</td>\n",
       "      <td>1504.042415</td>\n",
       "      <td>1528.061277</td>\n",
       "      <td>1536.925449</td>\n",
       "      <td>2.580350e+06</td>\n",
       "      <td>8.635146e+08</td>\n",
       "      <td>2182.632196</td>\n",
       "      <td>1281.628982</td>\n",
       "      <td>-7.145434</td>\n",
       "      <td>-6.72646</td>\n",
       "    </tr>\n",
       "    <tr>\n",
       "      <th>std</th>\n",
       "      <td>4466.627117</td>\n",
       "      <td>4576.377692</td>\n",
       "      <td>4435.492332</td>\n",
       "      <td>4477.209376</td>\n",
       "      <td>4532.004734</td>\n",
       "      <td>9.407021e+06</td>\n",
       "      <td>4.335973e+09</td>\n",
       "      <td>5728.930152</td>\n",
       "      <td>3850.529646</td>\n",
       "      <td>33.520508</td>\n",
       "      <td>8.86417</td>\n",
       "    </tr>\n",
       "    <tr>\n",
       "      <th>min</th>\n",
       "      <td>6.750000</td>\n",
       "      <td>6.950000</td>\n",
       "      <td>6.700000</td>\n",
       "      <td>6.850000</td>\n",
       "      <td>6.800000</td>\n",
       "      <td>1.507000e+03</td>\n",
       "      <td>2.587223e+06</td>\n",
       "      <td>13.100000</td>\n",
       "      <td>4.550000</td>\n",
       "      <td>-131.796667</td>\n",
       "      <td>-52.72000</td>\n",
       "    </tr>\n",
       "    <tr>\n",
       "      <th>25%</th>\n",
       "      <td>215.300000</td>\n",
       "      <td>221.550000</td>\n",
       "      <td>210.600000</td>\n",
       "      <td>217.200000</td>\n",
       "      <td>214.650000</td>\n",
       "      <td>7.740500e+04</td>\n",
       "      <td>4.502265e+07</td>\n",
       "      <td>328.700000</td>\n",
       "      <td>166.800000</td>\n",
       "      <td>-27.795000</td>\n",
       "      <td>-11.21250</td>\n",
       "    </tr>\n",
       "    <tr>\n",
       "      <th>50%</th>\n",
       "      <td>551.100000</td>\n",
       "      <td>569.100000</td>\n",
       "      <td>547.000000</td>\n",
       "      <td>554.750000</td>\n",
       "      <td>563.000000</td>\n",
       "      <td>3.296100e+05</td>\n",
       "      <td>1.533133e+08</td>\n",
       "      <td>818.000000</td>\n",
       "      <td>438.050000</td>\n",
       "      <td>-11.590000</td>\n",
       "      <td>-6.09500</td>\n",
       "    </tr>\n",
       "    <tr>\n",
       "      <th>75%</th>\n",
       "      <td>1404.500000</td>\n",
       "      <td>1421.250000</td>\n",
       "      <td>1396.850000</td>\n",
       "      <td>1411.700000</td>\n",
       "      <td>1410.000000</td>\n",
       "      <td>1.235612e+06</td>\n",
       "      <td>6.644570e+08</td>\n",
       "      <td>2096.750000</td>\n",
       "      <td>1128.800000</td>\n",
       "      <td>9.840000</td>\n",
       "      <td>-1.50750</td>\n",
       "    </tr>\n",
       "    <tr>\n",
       "      <th>max</th>\n",
       "      <td>70300.000000</td>\n",
       "      <td>72500.000000</td>\n",
       "      <td>70300.000000</td>\n",
       "      <td>70800.900000</td>\n",
       "      <td>71900.000000</td>\n",
       "      <td>1.257883e+08</td>\n",
       "      <td>9.211987e+10</td>\n",
       "      <td>87550.000000</td>\n",
       "      <td>63000.000000</td>\n",
       "      <td>138.900000</td>\n",
       "      <td>20.85000</td>\n",
       "    </tr>\n",
       "  </tbody>\n",
       "</table>\n",
       "</div>"
      ],
      "text/plain": [
       "               Open          High           Low  Previous Close  \\\n",
       "count    501.000000    501.000000    501.000000      501.000000   \n",
       "mean    1525.904491   1553.804990   1504.042415     1528.061277   \n",
       "std     4466.627117   4576.377692   4435.492332     4477.209376   \n",
       "min        6.750000      6.950000      6.700000        6.850000   \n",
       "25%      215.300000    221.550000    210.600000      217.200000   \n",
       "50%      551.100000    569.100000    547.000000      554.750000   \n",
       "75%     1404.500000   1421.250000   1396.850000     1411.700000   \n",
       "max    70300.000000  72500.000000  70300.000000    70800.900000   \n",
       "\n",
       "       Last Traded Price  Share Volume  Value (Indian Rupee)  52 Week High  \\\n",
       "count         501.000000  5.010000e+02          5.010000e+02    501.000000   \n",
       "mean         1536.925449  2.580350e+06          8.635146e+08   2182.632196   \n",
       "std          4532.004734  9.407021e+06          4.335973e+09   5728.930152   \n",
       "min             6.800000  1.507000e+03          2.587223e+06     13.100000   \n",
       "25%           214.650000  7.740500e+04          4.502265e+07    328.700000   \n",
       "50%           563.000000  3.296100e+05          1.533133e+08    818.000000   \n",
       "75%          1410.000000  1.235612e+06          6.644570e+08   2096.750000   \n",
       "max         71900.000000  1.257883e+08          9.211987e+10  87550.000000   \n",
       "\n",
       "        52 Week Low  365 Day Percentage Change  30 Day Percentage Change  \n",
       "count    501.000000                 499.000000                 500.00000  \n",
       "mean    1281.628982                  -7.145434                  -6.72646  \n",
       "std     3850.529646                  33.520508                   8.86417  \n",
       "min        4.550000                -131.796667                 -52.72000  \n",
       "25%      166.800000                 -27.795000                 -11.21250  \n",
       "50%      438.050000                 -11.590000                  -6.09500  \n",
       "75%     1128.800000                   9.840000                  -1.50750  \n",
       "max    63000.000000                 138.900000                  20.85000  "
      ]
     },
     "execution_count": 69,
     "metadata": {},
     "output_type": "execute_result"
    }
   ],
   "source": [
    "df.describe()"
   ]
  },
  {
   "cell_type": "markdown",
   "metadata": {},
   "source": [
    "Data Preprocessing"
   ]
  },
  {
   "cell_type": "code",
   "execution_count": 70,
   "metadata": {},
   "outputs": [
    {
     "name": "stdout",
     "output_type": "stream",
     "text": [
      "['EQ' 'BE']\n",
      "['Diversified' 'Healthcare' 'Financial Services' 'Capital Goods'\n",
      " 'Consumer Services' 'Construction Materials' 'Metals & Mining' 'Power'\n",
      " 'Services' 'Fast Moving Consumer Goods' 'Oil Gas & Consumable Fuels'\n",
      " 'Information Technology' 'Chemicals' 'Textiles'\n",
      " 'Automobile and Auto Components' 'Consumer Durables' 'Telecommunication'\n",
      " 'Realty' 'Forest Materials' 'Construction'\n",
      " 'Media Entertainment & Publication']\n"
     ]
    }
   ],
   "source": [
    "#Encoding \n",
    "print(df['Series'].unique())\n",
    "print(df['Industry'].unique())"
   ]
  },
  {
   "cell_type": "code",
   "execution_count": 71,
   "metadata": {},
   "outputs": [],
   "source": [
    "from sklearn.preprocessing import OneHotEncoder\n",
    "encoder = OneHotEncoder(dtype=int)\n",
    "\n",
    "encoded_features = encoder.fit_transform(df[['Series', 'Industry']])\n",
    "\n",
    "# Convert sparse matrix to dense array\n",
    "encoded_features = encoded_features.toarray()\n",
    "encoded_df = pd.DataFrame(encoded_features, columns=encoder.get_feature_names_out(['Series', 'Industry']))\n",
    "df = df.drop(['Series', 'Industry'], axis=1)\n",
    "df_merged = pd.concat([df, encoded_df], axis=1)"
   ]
  },
  {
   "cell_type": "code",
   "execution_count": 72,
   "metadata": {},
   "outputs": [
    {
     "name": "stdout",
     "output_type": "stream",
     "text": [
      "<class 'pandas.core.frame.DataFrame'>\n",
      "RangeIndex: 501 entries, 0 to 500\n",
      "Data columns (total 38 columns):\n",
      " #   Column                                      Non-Null Count  Dtype  \n",
      "---  ------                                      --------------  -----  \n",
      " 0   Company Name                                501 non-null    object \n",
      " 1   Symbol                                      501 non-null    object \n",
      " 2   Open                                        501 non-null    float64\n",
      " 3   High                                        501 non-null    float64\n",
      " 4   Low                                         501 non-null    float64\n",
      " 5   Previous Close                              501 non-null    float64\n",
      " 6   Last Traded Price                           501 non-null    float64\n",
      " 7   Change                                      501 non-null    object \n",
      " 8   Percentage Change                           501 non-null    object \n",
      " 9   Share Volume                                501 non-null    int64  \n",
      " 10  Value (Indian Rupee)                        501 non-null    float64\n",
      " 11  52 Week High                                501 non-null    float64\n",
      " 12  52 Week Low                                 501 non-null    float64\n",
      " 13  365 Day Percentage Change                   499 non-null    float64\n",
      " 14  30 Day Percentage Change                    500 non-null    float64\n",
      " 15  Series_BE                                   501 non-null    int32  \n",
      " 16  Series_EQ                                   501 non-null    int32  \n",
      " 17  Industry_Automobile and Auto Components     501 non-null    int32  \n",
      " 18  Industry_Capital Goods                      501 non-null    int32  \n",
      " 19  Industry_Chemicals                          501 non-null    int32  \n",
      " 20  Industry_Construction                       501 non-null    int32  \n",
      " 21  Industry_Construction Materials             501 non-null    int32  \n",
      " 22  Industry_Consumer Durables                  501 non-null    int32  \n",
      " 23  Industry_Consumer Services                  501 non-null    int32  \n",
      " 24  Industry_Diversified                        501 non-null    int32  \n",
      " 25  Industry_Fast Moving Consumer Goods         501 non-null    int32  \n",
      " 26  Industry_Financial Services                 501 non-null    int32  \n",
      " 27  Industry_Forest Materials                   501 non-null    int32  \n",
      " 28  Industry_Healthcare                         501 non-null    int32  \n",
      " 29  Industry_Information Technology             501 non-null    int32  \n",
      " 30  Industry_Media Entertainment & Publication  501 non-null    int32  \n",
      " 31  Industry_Metals & Mining                    501 non-null    int32  \n",
      " 32  Industry_Oil Gas & Consumable Fuels         501 non-null    int32  \n",
      " 33  Industry_Power                              501 non-null    int32  \n",
      " 34  Industry_Realty                             501 non-null    int32  \n",
      " 35  Industry_Services                           501 non-null    int32  \n",
      " 36  Industry_Telecommunication                  501 non-null    int32  \n",
      " 37  Industry_Textiles                           501 non-null    int32  \n",
      "dtypes: float64(10), int32(23), int64(1), object(4)\n",
      "memory usage: 103.8+ KB\n"
     ]
    }
   ],
   "source": [
    "df_merged.info()"
   ]
  },
  {
   "cell_type": "code",
   "execution_count": 73,
   "metadata": {},
   "outputs": [],
   "source": [
    "# Standardisation\n",
    "from sklearn.preprocessing import RobustScaler\n",
    "scaler = RobustScaler()\n",
    "df_merged[['Open', 'High', 'Low']] = scaler.fit_transform(df_merged[['Open', 'High', 'Low']])\n",
    "\n"
   ]
  },
  {
   "cell_type": "markdown",
   "metadata": {},
   "source": [
    "Regression Model\n"
   ]
  },
  {
   "cell_type": "code",
   "execution_count": 74,
   "metadata": {},
   "outputs": [
    {
     "data": {
      "text/plain": [
       "['Series_BE',\n",
       " 'Series_EQ',\n",
       " 'Industry_Automobile and Auto Components',\n",
       " 'Industry_Capital Goods',\n",
       " 'Industry_Chemicals',\n",
       " 'Industry_Construction',\n",
       " 'Industry_Construction Materials',\n",
       " 'Industry_Consumer Durables',\n",
       " 'Industry_Consumer Services',\n",
       " 'Industry_Diversified',\n",
       " 'Industry_Fast Moving Consumer Goods',\n",
       " 'Industry_Financial Services',\n",
       " 'Industry_Forest Materials',\n",
       " 'Industry_Healthcare',\n",
       " 'Industry_Information Technology',\n",
       " 'Industry_Media Entertainment & Publication',\n",
       " 'Industry_Metals & Mining',\n",
       " 'Industry_Oil Gas & Consumable Fuels',\n",
       " 'Industry_Power',\n",
       " 'Industry_Realty',\n",
       " 'Industry_Services',\n",
       " 'Industry_Telecommunication',\n",
       " 'Industry_Textiles']"
      ]
     },
     "execution_count": 74,
     "metadata": {},
     "output_type": "execute_result"
    }
   ],
   "source": [
    "list(encoded_df.columns)"
   ]
  },
  {
   "cell_type": "code",
   "execution_count": 75,
   "metadata": {},
   "outputs": [],
   "source": [
    "from sklearn.model_selection import train_test_split\n",
    "\n",
    "features = ['Open', 'High', 'Low'] + list(encoded_df.columns)\n",
    "target = 'Last Traded Price'\n",
    "\n",
    "X = df_merged[features]\n",
    "y = df_merged[target]\n",
    "\n",
    "X_train, X_test, y_train, y_test = train_test_split(X, y, test_size=0.2, random_state=42)"
   ]
  },
  {
   "cell_type": "code",
   "execution_count": 76,
   "metadata": {},
   "outputs": [
    {
     "name": "stdout",
     "output_type": "stream",
     "text": [
      "Mean Squared Error: 1044.907704955008\n",
      "R^2 Score: 0.999898783600457\n"
     ]
    }
   ],
   "source": [
    "from sklearn.linear_model import LinearRegression\n",
    "from sklearn.metrics import mean_squared_error, r2_score\n",
    "\n",
    "model = LinearRegression()\n",
    "model.fit(X_train, y_train)\n",
    "\n",
    "y_pred = model.predict(X_test)\n",
    "\n",
    "mse = mean_squared_error(y_test, y_pred)\n",
    "r2 = r2_score(y_test, y_pred)\n",
    "\n",
    "print(f'Mean Squared Error: {mse}')\n",
    "print(f'R^2 Score: {r2}')"
   ]
  },
  {
   "cell_type": "code",
   "execution_count": 77,
   "metadata": {},
   "outputs": [
    {
     "data": {
      "image/png": "[encoded data removed]",
      "text/plain": [
       "<Figure size 1000x600 with 1 Axes>"
      ]
     },
     "metadata": {},
     "output_type": "display_data"
    }
   ],
   "source": [
    "import matplotlib.pyplot as plt\n",
    "\n",
    "plt.figure(figsize=(10, 6))\n",
    "plt.scatter(y_test, y_pred, color='blue', alpha=0.5, label='Predicted Prices')\n",
    "plt.xlabel('Actual Prices')\n",
    "plt.ylabel('Predicted Prices')\n",
    "plt.title('Actual Prices vs Predicted Prices')\n",
    "plt.plot([y_test.min(), y_test.max()], [y_test.min(), y_test.max()], color='red', linestyle='--', label='Perfect Prediction')\n",
    "\n",
    "plt.legend()\n",
    "plt.grid(True)\n",
    "plt.show()\n"
   ]
  },
  {
   "cell_type": "markdown",
   "metadata": {},
   "source": [
    "Classification"
   ]
  },
  {
   "cell_type": "code",
   "execution_count": 78,
   "metadata": {},
   "outputs": [],
   "source": [
    "df_merged['Percentage Change'] = pd.to_numeric(df_merged['Percentage Change'], errors='coerce')\n",
    "\n",
    "df_merged['Target'] = (df_merged['Percentage Change'] > 0).astype(int)\n",
    "\n",
    "from sklearn.preprocessing import RobustScaler\n",
    "from sklearn.model_selection import train_test_split\n",
    "\n",
    "features = ['Open', 'High', 'Low', 'Previous Close', 'Share Volume','Value (Indian Rupee)',\n",
    "            '52 Week High', '52 Week Low', '365 Day Percentage Change', '30 Day Percentage Change']\n",
    "target = 'Target'\n",
    "\n",
    "X = df_merged[features]\n",
    "y = df_merged[target]\n",
    "X_train, X_test, y_train, y_test = train_test_split(X, y, test_size=0.2, random_state=42)\n",
    "\n",
    "scaler = RobustScaler()\n",
    "X_train = scaler.fit_transform(X_train)\n",
    "X_test = scaler.transform(X_test)\n"
   ]
  },
  {
   "cell_type": "code",
   "execution_count": 79,
   "metadata": {},
   "outputs": [
    {
     "name": "stdout",
     "output_type": "stream",
     "text": [
      "Fitting 5 folds for each of 16 candidates, totalling 80 fits\n",
      "Best SVM parameters: {'C': 0.1, 'gamma': 1, 'kernel': 'rbf'}\n",
      "Fitting 5 folds for each of 4 candidates, totalling 20 fits\n",
      "Best Linear SVM parameters: {'C': 100}\n",
      "Cross-validated accuracy of SVM: 0.6\n",
      "Cross-validated accuracy of Linear SVM: 0.7424999999999999\n",
      "SVM Evaluation:\n",
      "Accuracy: 0.504950495049505\n",
      "Precision: 0.504950495049505\n",
      "Recall: 1.0\n",
      "F1 Score: 0.6710526315789473\n",
      "Linear SVM Evaluation:\n",
      "Accuracy: 0.7524752475247525\n",
      "Precision: 0.6805555555555556\n",
      "Recall: 0.9607843137254902\n",
      "F1 Score: 0.7967479674796748\n"
     ]
    }
   ],
   "source": [
    "from sklearn.impute import SimpleImputer\n",
    "from sklearn.svm import SVC, LinearSVC\n",
    "from sklearn.metrics import accuracy_score, precision_score, recall_score, f1_score\n",
    "from sklearn.preprocessing import RobustScaler\n",
    "from sklearn.model_selection import train_test_split, GridSearchCV, cross_val_score\n",
    "\n",
    "# Impute missing values\n",
    "imputer = SimpleImputer(strategy='mean')\n",
    "X_train = imputer.fit_transform(X_train)\n",
    "X_test = imputer.transform(X_test)\n",
    "\n",
    "# Scale features\n",
    "scaler = RobustScaler()\n",
    "X_train = scaler.fit_transform(X_train)\n",
    "X_test = scaler.transform(X_test)\n",
    "\n",
    "# SVM model with GridSearchCV\n",
    "param_grid_svm = {\n",
    "    'C': [0.1, 1, 10, 100],\n",
    "    'gamma': [1, 0.1, 0.01, 0.001],\n",
    "    'kernel': ['rbf']\n",
    "}\n",
    "\n",
    "grid_svm = GridSearchCV(SVC(random_state=43), param_grid_svm, refit=True, verbose=1, cv=5)\n",
    "grid_svm.fit(X_train, y_train)\n",
    "print(f\"Best SVM parameters: {grid_svm.best_params_}\")\n",
    "best_svm_model = grid_svm.best_estimator_\n",
    "\n",
    "# Linear SVM model with GridSearchCV\n",
    "param_grid_lsvm = {\n",
    "    'C': [0.1, 1, 10, 100]\n",
    "}\n",
    "\n",
    "grid_lsvm = GridSearchCV(LinearSVC(random_state=43, max_iter=10000), param_grid_lsvm, refit=True, verbose=1, cv=5)\n",
    "grid_lsvm.fit(X_train, y_train)\n",
    "\n",
    "print(f\"Best Linear SVM parameters: {grid_lsvm.best_params_}\")\n",
    "best_lsvm_model = grid_lsvm.best_estimator_\n",
    "\n",
    "# Predictions\n",
    "svm_pred = best_svm_model.predict(X_test)\n",
    "lsvm_pred = best_lsvm_model.predict(X_test)\n",
    "\n",
    "# Metrics for SVM\n",
    "accuracy_svm = accuracy_score(y_test, svm_pred)\n",
    "precision_svm = precision_score(y_test, svm_pred)\n",
    "recall_svm = recall_score(y_test, svm_pred)\n",
    "f1_svm = f1_score(y_test, svm_pred)\n",
    "\n",
    "accuracy_lsvm = accuracy_score(y_test, lsvm_pred)\n",
    "precision_lsvm = precision_score(y_test, lsvm_pred)\n",
    "recall_lsvm = recall_score(y_test, lsvm_pred)\n",
    "f1_lsvm = f1_score(y_test, lsvm_pred)\n",
    "\n",
    "cv_scores_svm = cross_val_score(best_svm_model, X_train, y_train, cv=5, scoring='accuracy')\n",
    "print(f\"Cross-validated accuracy of SVM: {cv_scores_svm.mean()}\")\n",
    "\n",
    "cv_scores_lsvm = cross_val_score(best_lsvm_model, X_train, y_train, cv=5, scoring='accuracy')\n",
    "print(f\"Cross-validated accuracy of Linear SVM: {cv_scores_lsvm.mean()}\")\n",
    "\n",
    "print(f'SVM Evaluation:')\n",
    "print(f'Accuracy: {accuracy_svm}')\n",
    "print(f'Precision: {precision_svm}')\n",
    "print(f'Recall: {recall_svm}')\n",
    "print(f'F1 Score: {f1_svm}')\n",
    "\n",
    "print(f'Linear SVM Evaluation:')\n",
    "print(f'Accuracy: {accuracy_lsvm}')\n",
    "print(f'Precision: {precision_lsvm}')\n",
    "print(f'Recall: {recall_lsvm}')\n",
    "print(f'F1 Score: {f1_lsvm}')\n"
   ]
  },
  {
   "cell_type": "code",
   "execution_count": 80,
   "metadata": {},
   "outputs": [
    {
     "name": "stdout",
     "output_type": "stream",
     "text": [
      "Cross-validated Accuracy: 0.6\n"
     ]
    }
   ],
   "source": [
    "from sklearn.svm import SVC\n",
    "from sklearn.model_selection import cross_val_score\n",
    "\n",
    "# Create and train the SVM model\n",
    "svc_best_model = SVC(kernel='linear') \n",
    "svc_best_model.fit(X_train, y_train)\n",
    "\n",
    "# Perform cross-validation\n",
    "cross_val_scores = cross_val_score(svc_best_model, X_train, y_train, cv=5, scoring='accuracy')\n",
    "\n",
    "print(f'Cross-validated Accuracy: {cross_val_scores.mean()}')\n"
   ]
  },
  {
   "cell_type": "markdown",
   "metadata": {},
   "source": [
    "Random Forest for Regression\n"
   ]
  },
  {
   "cell_type": "code",
   "execution_count": 81,
   "metadata": {},
   "outputs": [
    {
     "name": "stdout",
     "output_type": "stream",
     "text": [
      "Regression Model Evaluation:\n",
      "Mean Squared Error: 36988.212380561534\n",
      "R^2 Score: 0.9964170867293463\n"
     ]
    }
   ],
   "source": [
    "from sklearn.ensemble import RandomForestRegressor\n",
    "from sklearn.metrics import mean_squared_error, r2_score\n",
    "\n",
    "features = ['Open', 'High', 'Low', 'Previous Close', 'Share Volume'] + list(encoded_df.columns)\n",
    "target_reg = 'Last Traded Price'\n",
    "\n",
    "X_reg = df_merged[features]\n",
    "y_reg = df_merged[target_reg]\n",
    "\n",
    "X_train_reg, X_test_reg, y_train_reg, y_test_reg = train_test_split(X_reg, y_reg, test_size=0.2, random_state=42)\n",
    "\n",
    "rf_regressor = RandomForestRegressor(n_estimators=100, random_state=42)\n",
    "rf_regressor.fit(X_train_reg, y_train_reg)\n",
    "\n",
    "y_pred_reg = rf_regressor.predict(X_test_reg)\n",
    "mse_reg = mean_squared_error(y_test_reg, y_pred_reg)\n",
    "r2_reg = r2_score(y_test_reg, y_pred_reg)\n",
    "\n",
    "print(f'Regression Model Evaluation:')\n",
    "print(f'Mean Squared Error: {mse_reg}')\n",
    "print(f'R^2 Score: {r2_reg}')\n"
   ]
  },
  {
   "cell_type": "code",
   "execution_count": 82,
   "metadata": {},
   "outputs": [
    {
     "data": {
      "image/png": "[encoded data removed]",
      "text/plain": [
       "<Figure size 1000x600 with 1 Axes>"
      ]
     },
     "metadata": {},
     "output_type": "display_data"
    }
   ],
   "source": [
    "residuals = y_test_reg - y_pred_reg\n",
    "\n",
    "plt.figure(figsize=(10, 6))\n",
    "plt.scatter(y_pred_reg, residuals, color='blue', alpha=0.5)\n",
    "plt.axhline(y=0, color='red', linestyle='--')\n",
    "plt.xlabel('Predicted Last Traded Price')\n",
    "plt.ylabel('Residuals')\n",
    "plt.title('Residual Plot for Random Forest Regressor')\n",
    "plt.show()\n"
   ]
  },
  {
   "cell_type": "markdown",
   "metadata": {},
   "source": [
    "Random forest for Classification"
   ]
  },
  {
   "cell_type": "code",
   "execution_count": 83,
   "metadata": {},
   "outputs": [
    {
     "name": "stdout",
     "output_type": "stream",
     "text": [
      "Selected Features: Index(['Open', 'Share Volume', 'Value (Indian Rupee)',\n",
      "       '365 Day Percentage Change', '30 Day Percentage Change'],\n",
      "      dtype='object')\n",
      "Cross-validated accuracy: 0.6075\n",
      "Classification Model Evaluation:\n",
      "Accuracy: 0.6336633663366337\n",
      "Precision: 0.609375\n",
      "Recall: 0.7647058823529411\n",
      "F1 Score: 0.6782608695652174\n"
     ]
    }
   ],
   "source": [
    "from sklearn.ensemble import RandomForestClassifier\n",
    "from sklearn.metrics import accuracy_score, precision_score, recall_score, f1_score\n",
    "from sklearn.model_selection import train_test_split, cross_val_score\n",
    "from sklearn.feature_selection import RFE\n",
    "\n",
    "# Define target and features\n",
    "target_class = 'Target'\n",
    "features = ['Open', 'High', 'Low', 'Previous Close', 'Share Volume', 'Value (Indian Rupee)',\n",
    "            '52 Week High', '52 Week Low', '365 Day Percentage Change', '30 Day Percentage Change'] + list(encoded_df.columns)\n",
    "\n",
    "# Prepare data\n",
    "X_class = df_merged[features]\n",
    "y_class = df_merged[target_class]\n",
    "X_train_class, X_test_class, y_train_class, y_test_class = train_test_split(X_class, y_class, test_size=0.2, random_state=42)\n",
    "\n",
    "# Train Random Forest Classifier\n",
    "rf_classifier = RandomForestClassifier(n_estimators=100, random_state=42)\n",
    "rf_classifier.fit(X_train_class, y_train_class)\n",
    "\n",
    "# Make predictions\n",
    "y_pred_class = rf_classifier.predict(X_test_class)\n",
    "\n",
    "# Calculate metrics\n",
    "accuracy_class = accuracy_score(y_test_class, y_pred_class)\n",
    "precision_class = precision_score(y_test_class, y_pred_class)\n",
    "recall_class = recall_score(y_test_class, y_pred_class)\n",
    "f1_class = f1_score(y_test_class, y_pred_class)\n",
    "\n",
    "# Feature Selection using RFE\n",
    "rfe = RFE(rf_classifier, n_features_to_select=5)\n",
    "rfe.fit(X_train_class, y_train_class)\n",
    "selected_features = X_class.columns[rfe.support_]\n",
    "print(f\"Selected Features: {selected_features}\")\n",
    "\n",
    "# Cross-validation\n",
    "cv_scores = cross_val_score(rf_classifier, X_train_class, y_train_class, cv=5, scoring='accuracy')\n",
    "print(f\"Cross-validated accuracy: {cv_scores.mean()}\")\n",
    "\n",
    "# Print evaluation metrics\n",
    "print(f'Classification Model Evaluation:')\n",
    "print(f'Accuracy: {accuracy_class}')\n",
    "print(f'Precision: {precision_class}')\n",
    "print(f'Recall: {recall_class}')\n",
    "print(f'F1 Score: {f1_class}')\n"
   ]
  },
  {
   "cell_type": "code",
   "execution_count": 84,
   "metadata": {},
   "outputs": [
    {
     "data": {
      "image/png": "[encoded data removed]",
      "text/plain": [
       "<Figure size 800x600 with 2 Axes>"
      ]
     },
     "metadata": {},
     "output_type": "display_data"
    }
   ],
   "source": [
    "from sklearn.metrics import confusion_matrix\n",
    "import seaborn as sns\n",
    "\n",
    "conf_matrix_class = confusion_matrix(y_test_class, y_pred_class)\n",
    "\n",
    "plt.figure(figsize=(8, 6))\n",
    "sns.heatmap(conf_matrix_class, annot=True, fmt='d', cmap='Blues', \n",
    "            xticklabels=['Negative', 'Positive'], \n",
    "            yticklabels=['Negative', 'Positive'])\n",
    "plt.xlabel('Predicted Label')\n",
    "plt.ylabel('True Label')\n",
    "plt.title('Confusion Matrix for Random Forest Classifier')\n",
    "plt.show()\n"
   ]
  },
  {
   "cell_type": "markdown",
   "metadata": {},
   "source": [
    "Compairing Results\n"
   ]
  },
  {
   "cell_type": "code",
   "execution_count": 85,
   "metadata": {},
   "outputs": [
    {
     "name": "stdout",
     "output_type": "stream",
     "text": [
      "Regression Model Evaluation (Linear Regression):\n",
      "Mean Squared Error: 1044.907704955008\n",
      "R^2 Score: 0.999898783600457\n",
      "\n",
      "Regression Model Evaluation (Random Forest Regressor):\n",
      "Mean Squared Error: 36988.212380561534\n",
      "R^2 Score: 0.9964170867293463\n",
      "\n",
      "Classification Model Evaluation (SVM):\n",
      "Accuracy: 0.504950495049505\n",
      "Precision: 0.504950495049505\n",
      "Recall: 1.0\n",
      "F1 Score: 0.6710526315789473\n",
      "\n",
      "Classification Model Evaluation (Linear SVM):\n",
      "Accuracy: 0.7524752475247525\n",
      "Precision: 0.6805555555555556\n",
      "Recall: 0.9607843137254902\n",
      "F1 Score: 0.7967479674796748\n",
      "\n",
      "Classification Model Evaluation (Random Forest Classifier):\n",
      "Accuracy: 0.6336633663366337\n",
      "Precision: 0.609375\n",
      "Recall: 0.7647058823529411\n",
      "F1 Score: 0.6782608695652174\n"
     ]
    },
    {
     "data": {
      "image/png": "[encoded data removed]",
      "text/plain": [
       "<Figure size 1000x600 with 1 Axes>"
      ]
     },
     "metadata": {},
     "output_type": "display_data"
    },
    {
     "data": {
      "image/png": "[encoded data removed]",
      "text/plain": [
       "<Figure size 800x600 with 2 Axes>"
      ]
     },
     "metadata": {},
     "output_type": "display_data"
    },
    {
     "name": "stdout",
     "output_type": "stream",
     "text": [
      "\n",
      "Regression Model Comparison:\n",
      "Linear Regression - Mean Squared Error: 1044.907704955008\n",
      "Linear Regression - R^2 Score: 0.999898783600457\n",
      "Random Forest Regressor - Mean Squared Error: 36988.212380561534\n",
      "Random Forest Regressor - R^2 Score: 0.9964170867293463\n",
      "\n",
      "Classification Model Comparison:\n",
      "SVM - Accuracy: 0.504950495049505\n",
      "Linear SVM - Accuracy: 0.7524752475247525\n",
      "Random Forest Classifier - Accuracy: 0.6336633663366337\n",
      "SVM - Precision: 0.504950495049505\n",
      "Linear SVM - Precision: 0.6805555555555556\n",
      "Random Forest Classifier - Precision: 0.609375\n",
      "SVM - Recall: 1.0\n",
      "Linear SVM - Recall: 0.9607843137254902\n",
      "Random Forest Classifier - Recall: 0.7647058823529411\n",
      "SVM - F1 Score: 0.6710526315789473\n",
      "Linear SVM - F1 Score: 0.7967479674796748\n",
      "Random Forest Classifier - F1 Score: 0.6782608695652174\n"
     ]
    }
   ],
   "source": [
    "import pandas as pd\n",
    "import numpy as np\n",
    "import matplotlib.pyplot as plt\n",
    "import seaborn as sns\n",
    "from sklearn.metrics import mean_squared_error, r2_score, accuracy_score, precision_score, recall_score, f1_score, confusion_matrix\n",
    "\n",
    "# Assuming the results have already been calculated and stored in variables\n",
    "\n",
    "# Regression Model Results\n",
    "print(\"Regression Model Evaluation (Linear Regression):\")\n",
    "print(f\"Mean Squared Error: {mse}\")\n",
    "print(f\"R^2 Score: {r2}\")\n",
    "\n",
    "print(\"\\nRegression Model Evaluation (Random Forest Regressor):\")\n",
    "print(f\"Mean Squared Error: {mse_reg}\")\n",
    "print(f\"R^2 Score: {r2_reg}\")\n",
    "\n",
    "# Classification Model Results\n",
    "print(\"\\nClassification Model Evaluation (SVM):\")\n",
    "print(f\"Accuracy: {accuracy_svm}\")\n",
    "print(f\"Precision: {precision_svm}\")\n",
    "print(f\"Recall: {recall_svm}\")\n",
    "print(f\"F1 Score: {f1_svm}\")\n",
    "\n",
    "print(\"\\nClassification Model Evaluation (Linear SVM):\")\n",
    "print(f\"Accuracy: {accuracy_lsvm}\")\n",
    "print(f\"Precision: {precision_lsvm}\")\n",
    "print(f\"Recall: {recall_lsvm}\")\n",
    "print(f\"F1 Score: {f1_lsvm}\")\n",
    "\n",
    "print(\"\\nClassification Model Evaluation (Random Forest Classifier):\")\n",
    "print(f\"Accuracy: {accuracy_class}\")\n",
    "print(f\"Precision: {precision_class}\")\n",
    "print(f\"Recall: {recall_class}\")\n",
    "print(f\"F1 Score: {f1_class}\")\n",
    "\n",
    "# Residual Plot for Random Forest Regressor\n",
    "plt.figure(figsize=(10, 6))\n",
    "plt.scatter(y_pred_reg, y_pred_reg - y_test_reg, color='blue', alpha=0.5)\n",
    "plt.axhline(y=0, color='red', linestyle='--')\n",
    "plt.xlabel('Predicted Last Traded Price')\n",
    "plt.ylabel('Residuals')\n",
    "plt.title('Residual Plot for Random Forest Regressor')\n",
    "plt.show()\n",
    "\n",
    "# Confusion Matrix for Random Forest Classifier\n",
    "conf_matrix_class = confusion_matrix(y_test_class, y_pred_class)\n",
    "plt.figure(figsize=(8, 6))\n",
    "sns.heatmap(conf_matrix_class, annot=True, fmt='d', cmap='Blues', \n",
    "            xticklabels=['Negative', 'Positive'], \n",
    "            yticklabels=['Negative', 'Positive'])\n",
    "plt.xlabel('Predicted Label')\n",
    "plt.ylabel('True Label')\n",
    "plt.title('Confusion Matrix for Random Forest Classifier')\n",
    "plt.show()\n",
    "\n",
    "# Comparison of Regression Models\n",
    "print(\"\\nRegression Model Comparison:\")\n",
    "print(f\"Linear Regression - Mean Squared Error: {mse}\")\n",
    "print(f\"Linear Regression - R^2 Score: {r2}\")\n",
    "print(f\"Random Forest Regressor - Mean Squared Error: {mse_reg}\")\n",
    "print(f\"Random Forest Regressor - R^2 Score: {r2_reg}\")\n",
    "\n",
    "# Comparison of Classification Models\n",
    "print(\"\\nClassification Model Comparison:\")\n",
    "print(f\"SVM - Accuracy: {accuracy_svm}\")\n",
    "print(f\"Linear SVM - Accuracy: {accuracy_lsvm}\")\n",
    "print(f\"Random Forest Classifier - Accuracy: {accuracy_class}\")\n",
    "\n",
    "print(f\"SVM - Precision: {precision_svm}\")\n",
    "print(f\"Linear SVM - Precision: {precision_lsvm}\")\n",
    "print(f\"Random Forest Classifier - Precision: {precision_class}\")\n",
    "\n",
    "print(f\"SVM - Recall: {recall_svm}\")\n",
    "print(f\"Linear SVM - Recall: {recall_lsvm}\")\n",
    "print(f\"Random Forest Classifier - Recall: {recall_class}\")\n",
    "\n",
    "print(f\"SVM - F1 Score: {f1_svm}\")\n",
    "print(f\"Linear SVM - F1 Score: {f1_lsvm}\")\n",
    "print(f\"Random Forest Classifier - F1 Score: {f1_class}\")\n"
   ]
  }
 ],
 "metadata": {
  "kernelspec": {
   "display_name": "Python 3",
   "language": "python",
   "name": "python3"
  },
  "language_info": {
   "codemirror_mode": {
    "name": "ipython",
    "version": 3
   },
   "file_extension": ".py",
   "mimetype": "text/x-python",
   "name": "python",
   "nbconvert_exporter": "python",
   "pygments_lexer": "ipython3",
   "version": "3.10.0"
  }
 },
 "nbformat": 4,
 "nbformat_minor": 2
}
